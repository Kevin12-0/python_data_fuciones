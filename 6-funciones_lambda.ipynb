{
 "cells": [
  {
   "cell_type": "markdown",
   "id": "ec515163",
   "metadata": {},
   "source": [
    "# __Funciones lambda__\n",
    " Tambien se conocen como funciones anonimas, son funciones que no necesitan ser definidas o sea, no poseen un nombre, y describenm en una unica fila los comandos que deseamos aplicar\n",
    "\n",
    " __Formato estandar__\n",
    "\n",
    " ```lambda <variable>: <exprecion>```"
   ]
  },
  {
   "cell_type": "code",
   "execution_count": 1,
   "id": "2327bdfd",
   "metadata": {},
   "outputs": [
    {
     "data": {
      "text/plain": [
       "8.7"
      ]
     },
     "execution_count": 1,
     "metadata": {},
     "output_type": "execute_result"
    }
   ],
   "source": [
    "nota_ = float(input(\"Digite la nota: \"))\n",
    "\n",
    "\n",
    "def cualitativa(nota):\n",
    "    return nota + 0.5\n",
    "\n",
    "\n",
    "cualitativa(nota_)"
   ]
  },
  {
   "cell_type": "code",
   "execution_count": 2,
   "id": "7bed8814",
   "metadata": {},
   "outputs": [
    {
     "data": {
      "text/plain": [
       "8.7"
      ]
     },
     "execution_count": 2,
     "metadata": {},
     "output_type": "execute_result"
    }
   ],
   "source": [
    "nota_ = float(input(\"Digite la nota: \"))\n",
    "\n",
    "cualitativa = lambda x: x + 0.5\n",
    "\n",
    "cualitativa(nota_)"
   ]
  },
  {
   "cell_type": "markdown",
   "id": "e6e42837",
   "metadata": {},
   "source": [
    "__Situacion 4__\n",
    "\n",
    "En esta nueva solicitud, necesitamos crear una calculadora simple para obtener el promedio ponderado de notas de una materia determinada.\n",
    "\n",
    "Vamos a prdir que el usuario introdusca 3 Notas(N1,N2,N3) del estudiante y devuelva el promedio ponderado de este estudiante. Los pesos de las notas son de respectivamente 3,2 y5.\n",
    "\n",
    "Nesesitamos exhibir un pequeño texto para poder indicar el promedio del estudiante __¿Vamos a resolver el desafio?__"
   ]
  },
  {
   "cell_type": "code",
   "execution_count": 5,
   "id": "841375f1",
   "metadata": {},
   "outputs": [],
   "source": [
    "n1 = float(input(\"Digite la nota: \"))\n",
    "n2 = float(input(\"Digite la nota: \"))\n",
    "n3 = float(input(\"Digite la nota: \"))\n",
    "\n",
    "ponderado = lambda x, y, z: (x * 3 + y * 2 + z * 5) / 10\n",
    "nota_final = ponderado(n1, n2, n3)"
   ]
  },
  {
   "cell_type": "markdown",
   "id": "afb1079f",
   "metadata": {},
   "source": []
  },
  {
   "cell_type": "code",
   "execution_count": 6,
   "id": "9acb1d73",
   "metadata": {},
   "outputs": [
    {
     "name": "stdout",
     "output_type": "stream",
     "text": [
      "el promedio final ponderado es de : 8.2\n"
     ]
    }
   ],
   "source": [
    "print(f\"el promedio final ponderado es de : {nota_final}\")"
   ]
  },
  {
   "cell_type": "markdown",
   "id": "92cc3b1b",
   "metadata": {},
   "source": [
    "__Mapeando valores__\n",
    "\n",
    "\n",
    "```map(<lambda function>, <iterador>)```\n",
    "\n",
    "__Situacion 5__\n",
    "\n",
    "Ahora, debemos crear una pequeña función que permita dar una nota cualitativa (puntaje extra) a las notas del trimestre de los estudiantes del grupo que ganó el concurso de programación realizado en la institución. Cada estudiante recibirá el cualitativo de 5 añadido al promedio.\n",
    "\n",
    "Los datos recibidos corresponden a una lista que contiene las notas de algunos estudiantes y una variable con el cualitativo recibido.\n",
    "\n",
    "__¿Vamos a resolver este desafío?__\n",
    "\n",
    "para facilitar nuestra comprensión del proceso, vamos a aplicar las notas de 5 estudiantes; sin embargo, puedes probar Otros casos para practicar.\n"
   ]
  },
  {
   "cell_type": "code",
   "execution_count": 7,
   "id": "005cc3c6",
   "metadata": {},
   "outputs": [],
   "source": [
    "notas = [6, 7, 8, 9, 5, 4]\n",
    "cualitativo = 0.5"
   ]
  },
  {
   "cell_type": "code",
   "execution_count": 8,
   "id": "1d63ef29",
   "metadata": {},
   "outputs": [],
   "source": [
    "notas_actulizadas = lambda x: x + 0.5"
   ]
  },
  {
   "cell_type": "code",
   "execution_count": 10,
   "id": "7bb42a02",
   "metadata": {},
   "outputs": [],
   "source": [
    "notas_actulizadas = map(lambda x: x + 0.5, notas)"
   ]
  },
  {
   "cell_type": "code",
   "execution_count": 11,
   "id": "357a7851",
   "metadata": {},
   "outputs": [
    {
     "data": {
      "text/plain": [
       "<map at 0x26ac00b39a0>"
      ]
     },
     "execution_count": 11,
     "metadata": {},
     "output_type": "execute_result"
    }
   ],
   "source": [
    "notas_actulizadas"
   ]
  },
  {
   "cell_type": "code",
   "execution_count": 12,
   "id": "8844fbb1",
   "metadata": {},
   "outputs": [
    {
     "data": {
      "text/plain": [
       "[6.5, 7.5, 8.5, 9.5, 5.5, 4.5]"
      ]
     },
     "execution_count": 12,
     "metadata": {},
     "output_type": "execute_result"
    }
   ],
   "source": [
    "notas_actulizadas = list(notas_actulizadas)\n",
    "notas_actulizadas"
   ]
  }
 ],
 "metadata": {
  "kernelspec": {
   "display_name": "Python 3",
   "language": "python",
   "name": "python3"
  },
  "language_info": {
   "codemirror_mode": {
    "name": "ipython",
    "version": 3
   },
   "file_extension": ".py",
   "mimetype": "text/x-python",
   "name": "python",
   "nbconvert_exporter": "python",
   "pygments_lexer": "ipython3",
   "version": "3.13.3"
  }
 },
 "nbformat": 4,
 "nbformat_minor": 5
}
