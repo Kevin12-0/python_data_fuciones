{
 "cells": [
  {
   "cell_type": "markdown",
   "id": "15cf0f52",
   "metadata": {},
   "source": [
    "# 2. funciones"
   ]
  },
  {
   "cell_type": "code",
   "execution_count": null,
   "id": "338d236c",
   "metadata": {},
   "outputs": [],
   "source": []
  }
 ],
 "metadata": {
  "language_info": {
   "name": "python"
  }
 },
 "nbformat": 4,
 "nbformat_minor": 5
}
