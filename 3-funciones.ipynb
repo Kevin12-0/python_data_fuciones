{
 "cells": [
  {
   "cell_type": "markdown",
   "id": "15cf0f52",
   "metadata": {},
   "source": [
    "# 2. funciones"
   ]
  },
  {
   "cell_type": "markdown",
   "id": "2847c288",
   "metadata": {},
   "source": [
    "__Situacion 1:__\n",
    "\n",
    "La institucion educativa para la cual nosotros trabajamos compartio datos de las notas de un estudiante para que pudiesemos calcular su promedio con una casilla decimal\n",
    "\n",
    "Los datos recibidos corresponden a un diccionario cuyas llaves indican el trimestre en cuestion y sus valores corrseponden a las notas de cada trimestre del estudiante en una respectiva materia\n",
    "\n"
   ]
  },
  {
   "cell_type": "code",
   "execution_count": 1,
   "id": "338d236c",
   "metadata": {},
   "outputs": [],
   "source": [
    "notas = {\"1° trimestre\": 9.5, \"2° trimestre\": 8, \"3° trimestre\": 7}"
   ]
  },
  {
   "cell_type": "code",
   "execution_count": 2,
   "id": "28d0b724",
   "metadata": {},
   "outputs": [
    {
     "name": "stdout",
     "output_type": "stream",
     "text": [
      "24.5\n"
     ]
    }
   ],
   "source": [
    "suma = 0\n",
    "for s in notas.values():\n",
    "    suma += s\n",
    "print(suma)"
   ]
  },
  {
   "cell_type": "code",
   "execution_count": 5,
   "id": "579195ab",
   "metadata": {},
   "outputs": [
    {
     "data": {
      "text/plain": [
       "8.166666666666666"
      ]
     },
     "execution_count": 5,
     "metadata": {},
     "output_type": "execute_result"
    }
   ],
   "source": [
    "promedio = sum(notas.values()) / len(notas)\n",
    "promedio"
   ]
  },
  {
   "cell_type": "markdown",
   "id": "98798a3f",
   "metadata": {},
   "source": [
    "_redondear el promedio_ con la funcion ```round```"
   ]
  },
  {
   "cell_type": "code",
   "execution_count": 6,
   "id": "6801fd73",
   "metadata": {},
   "outputs": [
    {
     "name": "stdout",
     "output_type": "stream",
     "text": [
      "Help on built-in function round in module builtins:\n",
      "\n",
      "round(number, ndigits=None)\n",
      "    Round a number to a given precision in decimal digits.\n",
      "\n",
      "    The return value is an integer if ndigits is omitted or None.  Otherwise\n",
      "    the return value has the same type as the number.  ndigits may be negative.\n",
      "\n"
     ]
    }
   ],
   "source": [
    "help(round)"
   ]
  },
  {
   "cell_type": "code",
   "execution_count": 8,
   "id": "2d3318da",
   "metadata": {},
   "outputs": [
    {
     "data": {
      "text/plain": [
       "8.2"
      ]
     },
     "execution_count": 8,
     "metadata": {},
     "output_type": "execute_result"
    }
   ],
   "source": [
    "promedio = round(promedio, 1)\n",
    "promedio"
   ]
  },
  {
   "cell_type": "code",
   "execution_count": null,
   "id": "d839b22c",
   "metadata": {},
   "outputs": [],
   "source": []
  }
 ],
 "metadata": {
  "kernelspec": {
   "display_name": "Python 3",
   "language": "python",
   "name": "python3"
  },
  "language_info": {
   "codemirror_mode": {
    "name": "ipython",
    "version": 3
   },
   "file_extension": ".py",
   "mimetype": "text/x-python",
   "name": "python",
   "nbconvert_exporter": "python",
   "pygments_lexer": "ipython3",
   "version": "3.13.3"
  }
 },
 "nbformat": 4,
 "nbformat_minor": 5
}
