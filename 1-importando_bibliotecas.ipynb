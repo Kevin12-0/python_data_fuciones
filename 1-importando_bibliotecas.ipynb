{
 "cells": [
  {
   "cell_type": "markdown",
   "id": "549e3fb6",
   "metadata": {},
   "source": [
    "# PYTHON PARA DATA SCIENCE\n",
    "\n",
    "## 1. Bibliotecas\n",
    "\n",
    "## 1.1 Instalacion en importacion de bibliotecas\n",
    "\n",
    "En el lenguaje Python se utiliza bastante el concepto de bibliotecas como un conjunto de modulos y funciones utiles para el ususario. Estas favorecen la reduccion del usoi de codigos en el proyecto, manteninedo unicamente los recursos nesesarios para el proyecto.\n",
    "\n",
    "## Instalando biblioteca\n",
    "\n",
    "para instalar o actualizar una biblioteca en python, poder acudir a ```pip``` que es un gestor de bibliotecas de python,.\n",
    "\n",
    "Existe tambien ```PYPI``` que es un repositorio de bibliotecas que contiene las bibliotecas mas utilizadas por la comunidad junto a su respectiva documentacion"
   ]
  },
  {
   "cell_type": "code",
   "execution_count": 1,
   "id": "750521cb",
   "metadata": {},
   "outputs": [
    {
     "name": "stdout",
     "output_type": "stream",
     "text": [
      "Collecting matplotlib\n",
      "  Downloading matplotlib-3.10.3-cp313-cp313-win_amd64.whl.metadata (11 kB)\n",
      "Collecting contourpy>=1.0.1 (from matplotlib)\n",
      "  Downloading contourpy-1.3.2-cp313-cp313-win_amd64.whl.metadata (5.5 kB)\n",
      "Collecting cycler>=0.10 (from matplotlib)\n",
      "  Downloading cycler-0.12.1-py3-none-any.whl.metadata (3.8 kB)\n",
      "Collecting fonttools>=4.22.0 (from matplotlib)\n",
      "  Downloading fonttools-4.58.0-cp313-cp313-win_amd64.whl.metadata (106 kB)\n",
      "Collecting kiwisolver>=1.3.1 (from matplotlib)\n",
      "  Downloading kiwisolver-1.4.8-cp313-cp313-win_amd64.whl.metadata (6.3 kB)\n",
      "Requirement already satisfied: numpy>=1.23 in c:\\users\\lopez\\appdata\\local\\programs\\python\\python313\\lib\\site-packages (from matplotlib) (2.2.5)\n",
      "Requirement already satisfied: packaging>=20.0 in c:\\users\\lopez\\appdata\\roaming\\python\\python313\\site-packages (from matplotlib) (25.0)\n",
      "Collecting pillow>=8 (from matplotlib)\n",
      "  Downloading pillow-11.2.1-cp313-cp313-win_amd64.whl.metadata (9.1 kB)\n",
      "Collecting pyparsing>=2.3.1 (from matplotlib)\n",
      "  Downloading pyparsing-3.2.3-py3-none-any.whl.metadata (5.0 kB)\n",
      "Requirement already satisfied: python-dateutil>=2.7 in c:\\users\\lopez\\appdata\\local\\programs\\python\\python313\\lib\\site-packages (from matplotlib) (2.9.0.post0)\n",
      "Requirement already satisfied: six>=1.5 in c:\\users\\lopez\\appdata\\local\\programs\\python\\python313\\lib\\site-packages (from python-dateutil>=2.7->matplotlib) (1.17.0)\n",
      "Downloading matplotlib-3.10.3-cp313-cp313-win_amd64.whl (8.1 MB)\n",
      "   ---------------------------------------- 0.0/8.1 MB ? eta -:--:--\n",
      "   --- ------------------------------------ 0.8/8.1 MB 4.2 MB/s eta 0:00:02\n",
      "   ------- -------------------------------- 1.6/8.1 MB 4.3 MB/s eta 0:00:02\n",
      "   ----------- ---------------------------- 2.4/8.1 MB 4.0 MB/s eta 0:00:02\n",
      "   -------------- ------------------------- 2.9/8.1 MB 3.8 MB/s eta 0:00:02\n",
      "   ------------------ --------------------- 3.7/8.1 MB 3.6 MB/s eta 0:00:02\n",
      "   -------------------- ------------------- 4.2/8.1 MB 3.5 MB/s eta 0:00:02\n",
      "   ------------------------ --------------- 5.0/8.1 MB 3.5 MB/s eta 0:00:01\n",
      "   ---------------------------- ----------- 5.8/8.1 MB 3.5 MB/s eta 0:00:01\n",
      "   ------------------------------- -------- 6.3/8.1 MB 3.5 MB/s eta 0:00:01\n",
      "   ----------------------------------- ---- 7.1/8.1 MB 3.4 MB/s eta 0:00:01\n",
      "   -------------------------------------- - 7.9/8.1 MB 3.5 MB/s eta 0:00:01\n",
      "   ---------------------------------------- 8.1/8.1 MB 3.4 MB/s eta 0:00:00\n",
      "Downloading contourpy-1.3.2-cp313-cp313-win_amd64.whl (223 kB)\n",
      "Downloading cycler-0.12.1-py3-none-any.whl (8.3 kB)\n",
      "Downloading fonttools-4.58.0-cp313-cp313-win_amd64.whl (2.2 MB)\n",
      "   ---------------------------------------- 0.0/2.2 MB ? eta -:--:--\n",
      "   -------------- ------------------------- 0.8/2.2 MB 4.1 MB/s eta 0:00:01\n",
      "   ---------------------------- ----------- 1.6/2.2 MB 4.2 MB/s eta 0:00:01\n",
      "   ---------------------------------------- 2.2/2.2 MB 3.8 MB/s eta 0:00:00\n",
      "Downloading kiwisolver-1.4.8-cp313-cp313-win_amd64.whl (71 kB)\n",
      "Downloading pillow-11.2.1-cp313-cp313-win_amd64.whl (2.7 MB)\n",
      "   ---------------------------------------- 0.0/2.7 MB ? eta -:--:--\n",
      "   ----------- ---------------------------- 0.8/2.7 MB 4.2 MB/s eta 0:00:01\n",
      "   ----------------------- ---------------- 1.6/2.7 MB 4.3 MB/s eta 0:00:01\n",
      "   ---------------------------------------  2.6/2.7 MB 4.0 MB/s eta 0:00:01\n",
      "   ---------------------------------------- 2.7/2.7 MB 4.0 MB/s eta 0:00:00\n",
      "Downloading pyparsing-3.2.3-py3-none-any.whl (111 kB)\n",
      "Installing collected packages: pyparsing, pillow, kiwisolver, fonttools, cycler, contourpy, matplotlib\n",
      "Successfully installed contourpy-1.3.2 cycler-0.12.1 fonttools-4.58.0 kiwisolver-1.4.8 matplotlib-3.10.3 pillow-11.2.1 pyparsing-3.2.3\n"
     ]
    },
    {
     "name": "stderr",
     "output_type": "stream",
     "text": [
      "\n",
      "[notice] A new release of pip is available: 25.0.1 -> 25.1.1\n",
      "[notice] To update, run: python.exe -m pip install --upgrade pip\n"
     ]
    }
   ],
   "source": [
    "!pip install matplotlib"
   ]
  },
  {
   "cell_type": "markdown",
   "id": "041ec787",
   "metadata": {},
   "source": [
    "## importado biblioteca"
   ]
  },
  {
   "cell_type": "code",
   "execution_count": 2,
   "id": "3532744c",
   "metadata": {},
   "outputs": [],
   "source": [
    "import matplotlib"
   ]
  },
  {
   "cell_type": "code",
   "execution_count": 3,
   "id": "c17d91ec",
   "metadata": {},
   "outputs": [
    {
     "data": {
      "text/plain": [
       "'3.10.3'"
      ]
     },
     "execution_count": 3,
     "metadata": {},
     "output_type": "execute_result"
    }
   ],
   "source": [
    "matplotlib.__version__"
   ]
  },
  {
   "cell_type": "markdown",
   "id": "763108ab",
   "metadata": {},
   "source": [
    "## Importar solo un modulo de la biblioteca"
   ]
  },
  {
   "cell_type": "code",
   "execution_count": 4,
   "id": "9579c4ce",
   "metadata": {},
   "outputs": [
    {
     "name": "stderr",
     "output_type": "stream",
     "text": [
      "Matplotlib is building the font cache; this may take a moment.\n"
     ]
    }
   ],
   "source": [
    "import matplotlib.pyplot as plt"
   ]
  },
  {
   "cell_type": "code",
   "execution_count": 5,
   "id": "50a373bc",
   "metadata": {},
   "outputs": [],
   "source": [
    "plt.show()"
   ]
  },
  {
   "cell_type": "code",
   "execution_count": null,
   "id": "9dd9d442",
   "metadata": {},
   "outputs": [],
   "source": []
  }
 ],
 "metadata": {
  "kernelspec": {
   "display_name": "Python 3",
   "language": "python",
   "name": "python3"
  },
  "language_info": {
   "codemirror_mode": {
    "name": "ipython",
    "version": 3
   },
   "file_extension": ".py",
   "mimetype": "text/x-python",
   "name": "python",
   "nbconvert_exporter": "python",
   "pygments_lexer": "ipython3",
   "version": "3.13.3"
  }
 },
 "nbformat": 4,
 "nbformat_minor": 5
}
