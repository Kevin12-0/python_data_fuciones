{
 "cells": [
  {
   "cell_type": "markdown",
   "id": "ed95fca0",
   "metadata": {},
   "source": [
    "## __Tratamiento de excepciones:__\n",
    "\n",
    "*   son errores que se presentan durante la ejecucion del programa\n",
    "*   interrumplen el flujo del programa"
   ]
  },
  {
   "cell_type": "markdown",
   "id": "f6a71740",
   "metadata": {},
   "source": [
    "__try ... except__\n",
    "\n",
    "```python\n",
    "try:\n",
    "    #codigo que sera ejecutado\n",
    "except <nombre_de_la_excepcion as e>:\n",
    "    # si surge en el try, ejecuta este codigo, si no, salta esta etapa\n",
    "```"
   ]
  },
  {
   "cell_type": "markdown",
   "id": "f1ff9abb",
   "metadata": {},
   "source": [
    "__situacion__\n",
    "\n",
    "Creaste un código que lee un diccionario con las notas de los estudiantes y querías retornar la lista de notas de un estudiante.\n",
    "\n",
    "En caso que el/la estudiante no esté matriculado(a) en el grupo debemos tratar la excepción para presentar el mensaje \"Estudiante no matriculado(a) en el grupo\".\n",
    "\n",
    "Vamos a trabajar en este ejemplo con la excepción __Key Error__ que interrumpirá el processo de este trecho de código.\n",
    "\n",
    "__¿Vamos a probar este primer tratamiento?__"
   ]
  },
  {
   "cell_type": "code",
   "execution_count": 1,
   "id": "d3bd094e",
   "metadata": {},
   "outputs": [],
   "source": [
    "notas = {\"juan\": [9, 8, 7], \"maria\": [1, 2, 3], \"carlos\": [4, 5, 6], \"jose\": [7, 8, 9]}"
   ]
  },
  {
   "cell_type": "code",
   "execution_count": 3,
   "id": "2f4a234e",
   "metadata": {},
   "outputs": [
    {
     "ename": "KeyError",
     "evalue": "'mario'",
     "output_type": "error",
     "traceback": [
      "\u001b[31m---------------------------------------------------------------------------\u001b[39m",
      "\u001b[31mKeyError\u001b[39m                                  Traceback (most recent call last)",
      "\u001b[36mCell\u001b[39m\u001b[36m \u001b[39m\u001b[32mIn[3]\u001b[39m\u001b[32m, line 2\u001b[39m\n\u001b[32m      1\u001b[39m nombres = \u001b[38;5;28minput\u001b[39m(\u001b[33m\"\u001b[39m\u001b[33mDigita el nombre del estudiante\u001b[39m\u001b[33m\"\u001b[39m)\n\u001b[32m----> \u001b[39m\u001b[32m2\u001b[39m resultado = \u001b[43mnotas\u001b[49m\u001b[43m[\u001b[49m\u001b[43mnombres\u001b[49m\u001b[43m]\u001b[49m\n\u001b[32m      3\u001b[39m resultado\n",
      "\u001b[31mKeyError\u001b[39m: 'mario'"
     ]
    }
   ],
   "source": [
    "nombres = input(\"Digita el nombre del estudiante\")\n",
    "resultado = notas[nombres]\n",
    "resultado"
   ]
  },
  {
   "cell_type": "code",
   "execution_count": 4,
   "id": "fa82d8f0",
   "metadata": {},
   "outputs": [
    {
     "name": "stdout",
     "output_type": "stream",
     "text": [
      "<class 'KeyError'> 'marco'\n"
     ]
    }
   ],
   "source": [
    "try:\n",
    "    nombres = input(\"Digita el nombre del estudiante\")\n",
    "    resultado = notas[nombres]\n",
    "    resultado\n",
    "except Exception as e:\n",
    "    print(type(e), e)"
   ]
  },
  {
   "cell_type": "code",
   "execution_count": 5,
   "id": "c0903eac",
   "metadata": {},
   "outputs": [
    {
     "name": "stdout",
     "output_type": "stream",
     "text": [
      "Estudiante no matriculado en este grupo\n"
     ]
    }
   ],
   "source": [
    "try:\n",
    "    nombres = input(\"Digita el nombre del estudiante\")\n",
    "    resultado = notas[nombres]\n",
    "except KeyError:\n",
    "    print(\"Estudiante no matriculado en este grupo\")"
   ]
  },
  {
   "cell_type": "markdown",
   "id": "b0a70503",
   "metadata": {},
   "source": [
    "__Situacion (agrgar else)__\n",
    "\n",
    "Creaste un codigo que lee un diccionario con las notas de los estudiantes y querias retomar la lsita de notas de un estidiante.\n",
    "\n",
    "En caso de que el/la estudiante no esté matriculado(a) en la clase, debe aparecer el siguiente mensaje: \"Estudiante no matriculado(a) en el grupo\" y, si no surje la excepción, debemos exhibir la lista con las notas del(la) estudiante.\n",
    "\n",
    "Vamos a trabajar en este ejemplo con la excepción Key Error que interrumpirá el proceso de este trecho de código.\n",
    "\n",
    "__¿Vamos a probar este tratamiento?__"
   ]
  },
  {
   "cell_type": "code",
   "execution_count": null,
   "id": "ac4480de",
   "metadata": {},
   "outputs": [
    {
     "name": "stdout",
     "output_type": "stream",
     "text": [
      "[9, 8, 7]\n"
     ]
    }
   ],
   "source": [
    "try:\n",
    "    nombres = input(\"Digita el nombre del estudiante\")\n",
    "    resultado = notas[nombres]\n",
    "except KeyError:\n",
    "    print(\"Estudiante no matriculado en este grupo\")\n",
    "else:\n",
    "    print(\"las notas del estudiante son:\", resultado)"
   ]
  },
  {
   "cell_type": "markdown",
   "id": "7be3fc02",
   "metadata": {},
   "source": [
    "## Añadiendo la clausa finally\n",
    "\n",
    "```python\n",
    "try:\n",
    "    # codigo que sera ejecutado\n",
    "except:\n",
    "    # si surge una excepcion en el try, ejecuta este codigo.\n",
    "else:\n",
    "    # si no surgen excepciones, ejecuta parte del codigo\n",
    "finally:\n",
    "    # ejecuta este trecho(con o sin la excepcion)\n",
    "```"
   ]
  },
  {
   "cell_type": "code",
   "execution_count": 4,
   "id": "561f1376",
   "metadata": {},
   "outputs": [
    {
     "name": "stdout",
     "output_type": "stream",
     "text": [
      "Estudiante no matriculado en este grupo\n",
      "la consulta ha concluido\n"
     ]
    }
   ],
   "source": [
    "try:\n",
    "    nombres = input(\"Digita el nombre del estudiante\")\n",
    "    resultado = notas[nombres]\n",
    "except KeyError:\n",
    "    print(\"Estudiante no matriculado en este grupo\")\n",
    "else:\n",
    "    print(\"las notas del estudiante son:\", resultado)\n",
    "finally:\n",
    "    print('la consulta ha concluido')"
   ]
  },
  {
   "cell_type": "code",
   "execution_count": null,
   "id": "7cc89ac6",
   "metadata": {},
   "outputs": [],
   "source": []
  }
 ],
 "metadata": {
  "kernelspec": {
   "display_name": "Python 3",
   "language": "python",
   "name": "python3"
  },
  "language_info": {
   "codemirror_mode": {
    "name": "ipython",
    "version": 3
   },
   "file_extension": ".py",
   "mimetype": "text/x-python",
   "name": "python",
   "nbconvert_exporter": "python",
   "pygments_lexer": "ipython3",
   "version": "3.13.3"
  }
 },
 "nbformat": 4,
 "nbformat_minor": 5
}
