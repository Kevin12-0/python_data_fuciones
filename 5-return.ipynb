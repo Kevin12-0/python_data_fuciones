{
 "cells": [
  {
   "cell_type": "markdown",
   "id": "4246b806",
   "metadata": {},
   "source": [
    "# 2.3 Funciones que retornan valores\n",
    "\n",
    "## Formato estandar\n",
    "\n",
    "```python\n",
    "def <nombre>(<parametr_1>,<parametr_2><parametr_3>...)\n",
    "    <instrucciones>\n",
    "    return resultado\n",
    "```\n",
    "\n",
    "Retomando la actividad Anterior, podemos retornar el calor del promedio de la siguiente forma:"
   ]
  },
  {
   "cell_type": "code",
   "execution_count": 17,
   "id": "d1be9df5",
   "metadata": {},
   "outputs": [],
   "source": [
    "# Notas del estudiante\n",
    "\n",
    "notas = [7.0, 8.0, 9.0, 10.0]"
   ]
  },
  {
   "cell_type": "code",
   "execution_count": 18,
   "id": "5efcc2c2",
   "metadata": {},
   "outputs": [],
   "source": [
    "def promedio(lista):\n",
    "    ressultado = sum(lista) / len(lista)\n",
    "    return ressultado"
   ]
  },
  {
   "cell_type": "code",
   "execution_count": 19,
   "id": "3700936e",
   "metadata": {},
   "outputs": [
    {
     "data": {
      "text/plain": [
       "8.5"
      ]
     },
     "execution_count": 19,
     "metadata": {},
     "output_type": "execute_result"
    }
   ],
   "source": [
    "promedio(notas)"
   ]
  },
  {
   "cell_type": "code",
   "execution_count": 20,
   "id": "d77e7b40",
   "metadata": {},
   "outputs": [],
   "source": [
    "resultado =promedio(notas)"
   ]
  },
  {
   "cell_type": "code",
   "execution_count": 21,
   "id": "85d1aa79",
   "metadata": {},
   "outputs": [
    {
     "data": {
      "text/plain": [
       "float"
      ]
     },
     "execution_count": 21,
     "metadata": {},
     "output_type": "execute_result"
    }
   ],
   "source": [
    "type(resultado)"
   ]
  },
  {
   "cell_type": "code",
   "execution_count": 22,
   "id": "5f5da021",
   "metadata": {},
   "outputs": [
    {
     "data": {
      "text/plain": [
       "8.5"
      ]
     },
     "execution_count": 22,
     "metadata": {},
     "output_type": "execute_result"
    }
   ],
   "source": [
    "resultado"
   ]
  },
  {
   "cell_type": "markdown",
   "id": "1717e23f",
   "metadata": {},
   "source": [
    "__Situacion 3__\n",
    "\n",
    "Recibimos una nueva solicitud. Debemos calcular el promedio de un estudiante a partir de una lista y retornar ek promedio como la situacion del estudiante ('aprobado' si la nota es mayor o igual a 7 en caso contratio reprobado)\n",
    "\n",
    "ademas de ello, necesitamos exibir un pequeño texto para indicar el promedio del estudiante y cual es su situalion. los datos recibidos corrsponde a una lista que contiene apnas las notas de un estudiante en una materia determinada.\n",
    "\n",
    "__¿vamos a resolver este desafio?__\n",
    "\n",
    "para facilitar la comprencion del proceso, vamos a aplicar las notas de un unico estudiante, sin embargo, puedes probar otros casos par a practicar"
   ]
  },
  {
   "cell_type": "code",
   "execution_count": 23,
   "id": "fae230bf",
   "metadata": {},
   "outputs": [],
   "source": [
    "notas = [7.0, 8.0, 9.0, 10.0]"
   ]
  },
  {
   "cell_type": "code",
   "execution_count": 24,
   "id": "379cf6a1",
   "metadata": {},
   "outputs": [],
   "source": [
    "def promedio(lista):\n",
    "    resultado = sum(lista) / len(lista)\n",
    "    if resultado >= 7:\n",
    "        situacion = \"aprovado\"\n",
    "    else:\n",
    "        situacion = \"reprovado\"\n",
    "    return f\"el o la estudiante, obtuvo el puntaje de:{resultado} y su situacion es : {situacion}\""
   ]
  },
  {
   "cell_type": "code",
   "execution_count": 25,
   "id": "33e40bf8",
   "metadata": {},
   "outputs": [
    {
     "data": {
      "text/plain": [
       "'el o la estudiante, obtuvo el puntaje de:8.5 y su situacion es : aprovado'"
      ]
     },
     "execution_count": 25,
     "metadata": {},
     "output_type": "execute_result"
    }
   ],
   "source": [
    "promedio(notas)"
   ]
  }
 ],
 "metadata": {
  "kernelspec": {
   "display_name": "Python 3",
   "language": "python",
   "name": "python3"
  },
  "language_info": {
   "codemirror_mode": {
    "name": "ipython",
    "version": 3
   },
   "file_extension": ".py",
   "mimetype": "text/x-python",
   "name": "python",
   "nbconvert_exporter": "python",
   "pygments_lexer": "ipython3",
   "version": "3.13.3"
  }
 },
 "nbformat": 4,
 "nbformat_minor": 5
}
