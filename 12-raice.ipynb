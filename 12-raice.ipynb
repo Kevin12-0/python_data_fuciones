{
 "cells": [
  {
   "cell_type": "markdown",
   "id": "2ae10520",
   "metadata": {},
   "source": [
    "## Raise\n",
    "\n",
    "Otra forma de trabajr con las excepciones en tu codigo, es generando tus propias excepciones para determinados comportamientos que deseas en tu codigo.\n",
    "\n",
    "Para ello, utilizamos la palabra clave ```raise``` junto al tipo de excepcion que se desea mostrar y el mensaje que sera exhibido."
   ]
  },
  {
   "cell_type": "markdown",
   "id": "ea9e390b",
   "metadata": {},
   "source": [
    "```python\n",
    "raise NombreDelError('mensaje deseado')\n",
    "```"
   ]
  },
  {
   "cell_type": "markdown",
   "id": "6de46033",
   "metadata": {},
   "source": [
    "__Situacion__\n",
    "\n",
    "Creaste una funcion para calcular el promedio de un estudiante de una determinanda materia pasando en una lista las notas de este estudiante.\n",
    "\n",
    "Pretendes tratar 2 situaciones:\n",
    "\n",
    "* si la lista posee un valor no numerico el calculo de promedio no sera ejecutado y un mensjqe de 'No fue posible calcular el promedio del estudiante. Solo se admiten valores numericos' sera exhibido.\n",
    "\n",
    "* en caso que la lista tenga mas de 4 notas, surgira una excepcion del tipo ValueError informado que 'La lista no puee poseer mas de 4 notas'\n",
    "\n",
    "Un texto avisando que 'la consulta a concluido', debe de ser mostrado independientemente de si surgio o no lo deseado\n",
    "\n",
    "__¿Vamos a resolver este desafio?__\n",
    "\n"
   ]
  },
  {
   "cell_type": "code",
   "execution_count": 1,
   "id": "804c6492",
   "metadata": {},
   "outputs": [],
   "source": [
    "def promedio(lista, list=[0]) -> float:\n",
    "    \"\"\"funcion para calcular el promedio de notas en una lista\n",
    "\n",
    "    lista: list, default[0]\n",
    "        lista con las notas para calcular el promedio\n",
    "    return = calculo: float\n",
    "        promedio calculado\"\"\"\n",
    "    calculo = sum(lista) / len(lista)\n",
    "    if len(lista) > 4:\n",
    "        raise ValueError(\"La lista no puede poseer mas de 4 notas\")\n",
    "    return calculo"
   ]
  },
  {
   "cell_type": "code",
   "execution_count": 2,
   "id": "d2aa214d",
   "metadata": {},
   "outputs": [
    {
     "ename": "ValueError",
     "evalue": "La lista no puede poseer mas de 4 notas",
     "output_type": "error",
     "traceback": [
      "\u001b[31m---------------------------------------------------------------------------\u001b[39m",
      "\u001b[31mValueError\u001b[39m                                Traceback (most recent call last)",
      "\u001b[36mCell\u001b[39m\u001b[36m \u001b[39m\u001b[32mIn[2]\u001b[39m\u001b[32m, line 2\u001b[39m\n\u001b[32m      1\u001b[39m notas = [\u001b[32m6\u001b[39m, \u001b[32m7\u001b[39m, \u001b[32m8\u001b[39m, \u001b[32m9\u001b[39m, \u001b[32m10\u001b[39m]\n\u001b[32m----> \u001b[39m\u001b[32m2\u001b[39m resultado = \u001b[43mpromedio\u001b[49m\u001b[43m(\u001b[49m\u001b[43mnotas\u001b[49m\u001b[43m)\u001b[49m\n\u001b[32m      3\u001b[39m resultado\n",
      "\u001b[36mCell\u001b[39m\u001b[36m \u001b[39m\u001b[32mIn[1]\u001b[39m\u001b[32m, line 10\u001b[39m, in \u001b[36mpromedio\u001b[39m\u001b[34m(lista, list)\u001b[39m\n\u001b[32m      8\u001b[39m calculo = \u001b[38;5;28msum\u001b[39m(lista) / \u001b[38;5;28mlen\u001b[39m(lista)\n\u001b[32m      9\u001b[39m \u001b[38;5;28;01mif\u001b[39;00m \u001b[38;5;28mlen\u001b[39m(lista) > \u001b[32m4\u001b[39m:\n\u001b[32m---> \u001b[39m\u001b[32m10\u001b[39m     \u001b[38;5;28;01mraise\u001b[39;00m \u001b[38;5;167;01mValueError\u001b[39;00m(\u001b[33m\"\u001b[39m\u001b[33mLa lista no puede poseer mas de 4 notas\u001b[39m\u001b[33m\"\u001b[39m)\n\u001b[32m     11\u001b[39m \u001b[38;5;28;01mreturn\u001b[39;00m calculo\n",
      "\u001b[31mValueError\u001b[39m: La lista no puede poseer mas de 4 notas"
     ]
    }
   ],
   "source": [
    "notas = [6, 7, 8, 9, 10]\n",
    "resultado = promedio(notas)\n",
    "resultado"
   ]
  },
  {
   "cell_type": "code",
   "execution_count": 3,
   "id": "1a7b32f0",
   "metadata": {},
   "outputs": [
    {
     "ename": "TypeError",
     "evalue": "unsupported operand type(s) for +: 'int' and 'str'",
     "output_type": "error",
     "traceback": [
      "\u001b[31m---------------------------------------------------------------------------\u001b[39m",
      "\u001b[31mTypeError\u001b[39m                                 Traceback (most recent call last)",
      "\u001b[36mCell\u001b[39m\u001b[36m \u001b[39m\u001b[32mIn[3]\u001b[39m\u001b[32m, line 2\u001b[39m\n\u001b[32m      1\u001b[39m notas = [\u001b[32m6\u001b[39m, \u001b[32m7\u001b[39m, \u001b[32m8\u001b[39m, \u001b[32m9\u001b[39m, \u001b[33m\"\u001b[39m\u001b[33m10\u001b[39m\u001b[33m\"\u001b[39m]\n\u001b[32m----> \u001b[39m\u001b[32m2\u001b[39m resultado = \u001b[43mpromedio\u001b[49m\u001b[43m(\u001b[49m\u001b[43mnotas\u001b[49m\u001b[43m)\u001b[49m\n\u001b[32m      3\u001b[39m resultado\n",
      "\u001b[36mCell\u001b[39m\u001b[36m \u001b[39m\u001b[32mIn[1]\u001b[39m\u001b[32m, line 8\u001b[39m, in \u001b[36mpromedio\u001b[39m\u001b[34m(lista, list)\u001b[39m\n\u001b[32m      1\u001b[39m \u001b[38;5;28;01mdef\u001b[39;00m\u001b[38;5;250m \u001b[39m\u001b[34mpromedio\u001b[39m(lista, \u001b[38;5;28mlist\u001b[39m=[\u001b[32m0\u001b[39m]) -> \u001b[38;5;28mfloat\u001b[39m:\n\u001b[32m      2\u001b[39m \u001b[38;5;250m    \u001b[39m\u001b[33;03m\"\"\"funcion para calcular el promedio de notas en una lista\u001b[39;00m\n\u001b[32m      3\u001b[39m \n\u001b[32m      4\u001b[39m \u001b[33;03m    lista: list, default[0]\u001b[39;00m\n\u001b[32m      5\u001b[39m \u001b[33;03m        lista con las notas para calcular el promedio\u001b[39;00m\n\u001b[32m      6\u001b[39m \u001b[33;03m    return = calculo: float\u001b[39;00m\n\u001b[32m      7\u001b[39m \u001b[33;03m        promedio calculado\"\"\"\u001b[39;00m\n\u001b[32m----> \u001b[39m\u001b[32m8\u001b[39m     calculo = \u001b[38;5;28;43msum\u001b[39;49m\u001b[43m(\u001b[49m\u001b[43mlista\u001b[49m\u001b[43m)\u001b[49m / \u001b[38;5;28mlen\u001b[39m(lista)\n\u001b[32m      9\u001b[39m     \u001b[38;5;28;01mif\u001b[39;00m \u001b[38;5;28mlen\u001b[39m(lista) > \u001b[32m4\u001b[39m:\n\u001b[32m     10\u001b[39m         \u001b[38;5;28;01mraise\u001b[39;00m \u001b[38;5;167;01mValueError\u001b[39;00m(\u001b[33m\"\u001b[39m\u001b[33mLa lista no puede poseer mas de 4 notas\u001b[39m\u001b[33m\"\u001b[39m)\n",
      "\u001b[31mTypeError\u001b[39m: unsupported operand type(s) for +: 'int' and 'str'"
     ]
    }
   ],
   "source": [
    "notas = [6, 7, 8, 9, \"10\"]\n",
    "resultado = promedio(notas)\n",
    "resultado"
   ]
  },
  {
   "cell_type": "code",
   "execution_count": 4,
   "id": "bd19606b",
   "metadata": {},
   "outputs": [
    {
     "name": "stdout",
     "output_type": "stream",
     "text": [
      "No fue posible clacular el promedio del estudiante, Solo se admiten valores numericos \n",
      "la consulta a concluido\n"
     ]
    }
   ],
   "source": [
    "try:\n",
    "    notas = [6, 7, 8, 9, \"10\"]\n",
    "    resultado = promedio(notas)\n",
    "except TypeError:\n",
    "    print(\n",
    "        \"No fue posible clacular el promedio del estudiante, Solo se admiten valores numericos \"\n",
    "    )\n",
    "except ValueError as e:\n",
    "    print(e)\n",
    "else:\n",
    "    print(f\"las notas del estudiante son:{resultado}\")\n",
    "finally:\n",
    "    print(\"la consulta a concluido\")"
   ]
  },
  {
   "cell_type": "code",
   "execution_count": 5,
   "id": "f1fd7fc1",
   "metadata": {},
   "outputs": [
    {
     "name": "stdout",
     "output_type": "stream",
     "text": [
      "No fue posible clacular el promedio del estudiante, Solo se admiten valores numericos \n",
      "la consulta a concluido\n"
     ]
    }
   ],
   "source": [
    "try:\n",
    "    notas = [6, 7, 8, 9, \"10\"]\n",
    "    resultado = promedio(notas)\n",
    "except ValueError as e:\n",
    "    print(e)\n",
    "except TypeError:\n",
    "    print(\n",
    "        \"No fue posible clacular el promedio del estudiante, Solo se admiten valores numericos \"\n",
    "    )\n",
    "else:\n",
    "    print(f\"las notas del estudiante son:{resultado}\")\n",
    "finally:\n",
    "    print(\"la consulta a concluido\")"
   ]
  },
  {
   "cell_type": "code",
   "execution_count": 6,
   "id": "e55ef71a",
   "metadata": {},
   "outputs": [
    {
     "name": "stdout",
     "output_type": "stream",
     "text": [
      "las notas del estudiante son:7.5\n",
      "la consulta a concluido\n"
     ]
    }
   ],
   "source": [
    "try:\n",
    "    notas = [6, 7, 8, 9]\n",
    "    resultado = promedio(notas)\n",
    "except ValueError as e:\n",
    "    print(e)\n",
    "except TypeError:\n",
    "    print(\n",
    "        \"No fue posible clacular el promedio del estudiante, Solo se admiten valores numericos \"\n",
    "    )\n",
    "else:\n",
    "    print(f\"las notas del estudiante son:{resultado}\")\n",
    "finally:\n",
    "    print(\"la consulta a concluido\")"
   ]
  },
  {
   "cell_type": "code",
   "execution_count": 7,
   "id": "4807468c",
   "metadata": {},
   "outputs": [
    {
     "name": "stdout",
     "output_type": "stream",
     "text": [
      "La lista no puede poseer mas de 4 notas\n",
      "la consulta a concluido\n"
     ]
    }
   ],
   "source": [
    "try:\n",
    "    notas = [6, 7, 8, 9, 10]\n",
    "    resultado = promedio(notas)\n",
    "except ValueError as e:\n",
    "    print(e)\n",
    "except TypeError:\n",
    "    print(\n",
    "        \"No fue posible clacular el promedio del estudiante, Solo se admiten valores numericos \"\n",
    "    )\n",
    "else:\n",
    "    print(f\"las notas del estudiante son:{resultado}\")\n",
    "finally:\n",
    "    print(\"la consulta a concluido\")"
   ]
  },
  {
   "cell_type": "code",
   "execution_count": null,
   "id": "1df621e6",
   "metadata": {},
   "outputs": [],
   "source": []
  }
 ],
 "metadata": {
  "kernelspec": {
   "display_name": "Python 3",
   "language": "python",
   "name": "python3"
  },
  "language_info": {
   "codemirror_mode": {
    "name": "ipython",
    "version": 3
   },
   "file_extension": ".py",
   "mimetype": "text/x-python",
   "name": "python",
   "nbconvert_exporter": "python",
   "pygments_lexer": "ipython3",
   "version": "3.13.3"
  }
 },
 "nbformat": 4,
 "nbformat_minor": 5
}
