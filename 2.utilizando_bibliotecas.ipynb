{
 "cells": [
  {
   "cell_type": "markdown",
   "id": "8f6f8319",
   "metadata": {},
   "source": [
    "# 1.2 Utilizando modulos / bibliotecas\n",
    "\n",
    "Ejemplo 1: vamos a probar la biblioteca de matplotib para un ejemplo sobre el calculo de los procedimientos de4 notas de4 los estudiantes de una clase"
   ]
  },
  {
   "cell_type": "code",
   "execution_count": 1,
   "id": "c9992e9c",
   "metadata": {},
   "outputs": [],
   "source": [
    "from matplotlib import pyplot as plt"
   ]
  },
  {
   "cell_type": "code",
   "execution_count": 2,
   "id": "b8fd5da5",
   "metadata": {},
   "outputs": [],
   "source": [
    "estudiantes = [\"Juan\", \"Maria\", \"Jose\"]"
   ]
  },
  {
   "cell_type": "code",
   "execution_count": 4,
   "id": "e963e7a2",
   "metadata": {},
   "outputs": [],
   "source": [
    "notas = [7, 9.7, 8]"
   ]
  },
  {
   "cell_type": "code",
   "execution_count": 5,
   "id": "266ca0a4",
   "metadata": {},
   "outputs": [
    {
     "data": {
      "text/plain": [
       "<function matplotlib.pyplot.show(close=None, block=None)>"
      ]
     },
     "execution_count": 5,
     "metadata": {},
     "output_type": "execute_result"
    },
    {
     "data": {
      "image/png": "[encoded data removed]",
      "text/plain": [
       "<Figure size 640x480 with 1 Axes>"
      ]
     },
     "metadata": {},
     "output_type": "display_data"
    }
   ],
   "source": [
    "plt.bar(x=estudiantes,height=notas)\n",
    "plt.show"
   ]
  },
  {
   "cell_type": "markdown",
   "id": "833ca20c",
   "metadata": {},
   "source": [
    "ejemplo 2: vamos a seleccionar aleatoriamente a un alumno para presentar su trabajo de ciencia de datos usando la biblioteca\n",
    "\n",
    "```random.```"
   ]
  },
  {
   "cell_type": "code",
   "execution_count": 6,
   "id": "47d3e24b",
   "metadata": {},
   "outputs": [],
   "source": [
    "estudiantes_2 = [\"Juan\", \"Maria\", \"Jose\",'Ericka']"
   ]
  },
  {
   "cell_type": "code",
   "execution_count": 7,
   "id": "3dd945dd",
   "metadata": {},
   "outputs": [],
   "source": [
    "import random"
   ]
  },
  {
   "cell_type": "markdown",
   "id": "1bf06d80",
   "metadata": {},
   "source": [
    "Tip: Podria notar a medida que avanzas en los ejercicios la importancia de acudir a la documentacion para aprender como utilizar un metodo de algun modulo en el lenguaje Python"
   ]
  },
  {
   "cell_type": "code",
   "execution_count": 8,
   "id": "dc527a60",
   "metadata": {},
   "outputs": [],
   "source": [
    "from random import choice"
   ]
  },
  {
   "cell_type": "code",
   "execution_count": 9,
   "id": "5dffe5be",
   "metadata": {},
   "outputs": [
    {
     "data": {
      "text/plain": [
       "'Ericka'"
      ]
     },
     "execution_count": 9,
     "metadata": {},
     "output_type": "execute_result"
    }
   ],
   "source": [
    "estudiante = choice(estudiantes_2)\n",
    "estudiante"
   ]
  },
  {
   "cell_type": "code",
   "execution_count": 10,
   "id": "6f4174c0",
   "metadata": {},
   "outputs": [
    {
     "name": "stdout",
     "output_type": "stream",
     "text": [
      "Help on method choice in module random:\n",
      "\n",
      "choice(seq) method of random.Random instance\n",
      "    Choose a random element from a non-empty sequence.\n",
      "\n"
     ]
    }
   ],
   "source": [
    "help(choice)"
   ]
  }
 ],
 "metadata": {
  "kernelspec": {
   "display_name": "Python 3",
   "language": "python",
   "name": "python3"
  },
  "language_info": {
   "codemirror_mode": {
    "name": "ipython",
    "version": 3
   },
   "file_extension": ".py",
   "mimetype": "text/x-python",
   "name": "python",
   "nbconvert_exporter": "python",
   "pygments_lexer": "ipython3",
   "version": "3.13.3"
  }
 },
 "nbformat": 4,
 "nbformat_minor": 5
}
