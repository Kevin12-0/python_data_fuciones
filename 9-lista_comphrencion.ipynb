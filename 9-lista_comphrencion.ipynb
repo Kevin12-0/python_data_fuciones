{
 "cells": [
  {
   "cell_type": "markdown",
   "id": "fb60ec9b",
   "metadata": {},
   "source": [
    "# __3.2 List comprehension__\n",
    "\n",
    "Es una forma simple y concisa de crear una lista. Podemos aplicar condicionales y lazos para crear diversos tipos de listas a partir\n",
    "de patrones que deseamos para nuestra estructura de datos.\n",
    "\n",
    "https://docs.pythomorg/es/3/tutorial/datastructures.html?#list-comprehensions\n",
    "\n",
    "__Formato estándar:__\n",
    "\n",
    "```[expresion for item in lista]```"
   ]
  },
  {
   "cell_type": "markdown",
   "id": "5b8c484f",
   "metadata": {},
   "source": [
    "__Situación 8:__\n",
    "\n",
    "Recibimos la demanda de crear una lista con el promedio de los estudiantes de la lista de listas que creamos en la Situación 6,\n",
    "redondeando el promedio a una casilla decimal. Recordando que cada lista de la lista de listas contiene las tres notas de cada\n",
    "estudiante.\n",
    "\n",
    "__¿Vamos a resolver este desafío?__\n",
    "\n",
    "Tip: Utiliza el formato:\n",
    "\n",
    "```[expresion for item in lista]```"
   ]
  },
  {
   "cell_type": "code",
   "execution_count": 2,
   "id": "7ceec66a",
   "metadata": {},
   "outputs": [],
   "source": [
    "def promedio(lista: list = [0]) -> float:\n",
    "    calculo = sum(lista) / len(lista)\n",
    "    return calculo"
   ]
  },
  {
   "cell_type": "code",
   "execution_count": 3,
   "id": "b9c396ea",
   "metadata": {},
   "outputs": [],
   "source": [
    "notas = [[7, 8, 9], [9, 8, 7], [6, 5, 4], [1, 2, 3], [4, 5, 6]]"
   ]
  },
  {
   "cell_type": "code",
   "execution_count": 4,
   "id": "4bb351c9",
   "metadata": {},
   "outputs": [
    {
     "data": {
      "text/plain": [
       "[8.0, 8.0, 5.0, 2.0, 5.0]"
      ]
     },
     "execution_count": 4,
     "metadata": {},
     "output_type": "execute_result"
    }
   ],
   "source": [
    "promedios = [round(promedio(nota), 1) for nota in notas]\n",
    "promedios"
   ]
  },
  {
   "cell_type": "markdown",
   "id": "1276a1c0",
   "metadata": {},
   "source": [
    "__Situación 9:__\n",
    "\n",
    "Ahora, necesitamos utilizar IOS promedios calculados en el ejemplo anterior, y agruparlos el nombre de los respectivos estudiantes, Esto será necesario para generar una lista que seleccione a aquellos estudiantes que posean un promedio final mayor o igual a 8 para concursar por una beca de estudios para el próximo año lectivo, Los datos recibidos corresponden a una lista de tuplas con los nombres y los códigos de Ioswestudiantes junto a la lista de promedios calculados previamente.\n",
    "\n",
    "__Nota: EI número de código será diferente cada vez que se ejecute la celda que los genera, por 10 tanto, es completamente normalque estos códigos sean diferentes.__\n",
    "\n",
    "__¿Vamos a resolver este desafío?__\n",
    "\n",
    "Para facilitar nuestra comprensión del proceso vamos a trabajar con un grupo de 5 estudiantes.\n",
    "\n",
    "__Tip:__ Utiliza el formato:\n",
    "\n",
    "```[expresion fopr item in lista if condition]```"
   ]
  },
  {
   "cell_type": "code",
   "execution_count": 5,
   "id": "bd554d0f",
   "metadata": {},
   "outputs": [],
   "source": [
    "nombres = [\n",
    "    (\"juan\", \"j306\"),\n",
    "    (\"maria\", \"m295\"),\n",
    "    (\"Jose\", \"J992\"),\n",
    "    (\"Claudia\", \"C927\"),\n",
    "    (\"ana\", \"a96\"),\n",
    "]\n",
    "promedios = [8.0, 8.0, 5.0, 2.0, 5.0]"
   ]
  },
  {
   "cell_type": "code",
   "execution_count": 6,
   "id": "807fb8c5",
   "metadata": {},
   "outputs": [
    {
     "data": {
      "text/plain": [
       "['juan', 'maria', 'Jose', 'Claudia', 'ana']"
      ]
     },
     "execution_count": 6,
     "metadata": {},
     "output_type": "execute_result"
    }
   ],
   "source": [
    "nombres  = [nombre[0] for nombre in nombres]\n",
    "nombres"
   ]
  },
  {
   "cell_type": "code",
   "execution_count": 7,
   "id": "b586660e",
   "metadata": {},
   "outputs": [
    {
     "data": {
      "text/plain": [
       "[('juan', 8.0), ('maria', 8.0), ('Jose', 5.0), ('Claudia', 2.0), ('ana', 5.0)]"
      ]
     },
     "execution_count": 7,
     "metadata": {},
     "output_type": "execute_result"
    }
   ],
   "source": [
    "estudiantes = list(zip(nombres, promedios))\n",
    "estudiantes"
   ]
  },
  {
   "cell_type": "code",
   "execution_count": 8,
   "id": "a1a3e094",
   "metadata": {},
   "outputs": [
    {
     "data": {
      "text/plain": [
       "['juan', 'maria']"
      ]
     },
     "execution_count": 8,
     "metadata": {},
     "output_type": "execute_result"
    }
   ],
   "source": [
    "candidatos = [estudiante[0] for estudiante in estudiantes if estudiante[1] >= 8]\n",
    "candidatos"
   ]
  },
  {
   "cell_type": "markdown",
   "id": "5163d566",
   "metadata": {},
   "source": [
    "__Situación 10:__\n",
    "\n",
    "Recibimos dos demandas sobre este proyecto con las notas de los estudiantes:\n",
    "\n",
    "*   Crear una lista de la situación de los estudiantes considerando los siguientes casos: Si su promedio es mayor o igual a 7, recibirá el valor \"Aprobado\" y en caso contrario recibirá el valor •Reprobado•.\n",
    "\n",
    "*   Generar una lista de listas con:\n",
    "\n",
    "*      Lista de tuplas con el nombre de los estudiantes y sus códigos\n",
    "*      Lista de listas con las notas de cada estudiante\n",
    "*      Lista con los promedios de cada estudiante\n",
    "*      Lista de la situación de los estudiantes de acuerdo con los promedios"
   ]
  },
  {
   "cell_type": "code",
   "execution_count": 1,
   "id": "50ce661b",
   "metadata": {},
   "outputs": [],
   "source": [
    "nombres = [\n",
    "    (\"juan\", \"j306\"),\n",
    "    (\"maria\", \"m295\"),\n",
    "    (\"Jose\", \"J992\"),\n",
    "    (\"Claudia\", \"C927\"),\n",
    "    (\"ana\", \"a96\"),\n",
    "]\n",
    "notas = [[7, 8, 9], [9, 8, 7], [6, 5, 4], [1, 2, 3], [4, 5, 6]]\n",
    "promedios = [8.0, 8.0, 5.0, 2.0, 5.0]"
   ]
  },
  {
   "cell_type": "code",
   "execution_count": 2,
   "id": "e0f6b84f",
   "metadata": {},
   "outputs": [],
   "source": [
    "situacion = [\"aprovado\" if promedio >= 7 else \"reprovado\" for promedio in promedios]"
   ]
  },
  {
   "cell_type": "code",
   "execution_count": 3,
   "id": "b94b01bb",
   "metadata": {},
   "outputs": [
    {
     "data": {
      "text/plain": [
       "['aprovado', 'aprovado', 'reprovado', 'reprovado', 'reprovado']"
      ]
     },
     "execution_count": 3,
     "metadata": {},
     "output_type": "execute_result"
    }
   ],
   "source": [
    "situacion"
   ]
  },
  {
   "cell_type": "code",
   "execution_count": 4,
   "id": "6421ee69",
   "metadata": {},
   "outputs": [],
   "source": [
    "registros = [x for x in [nombres, notas, promedios, situacion]]"
   ]
  },
  {
   "cell_type": "code",
   "execution_count": 5,
   "id": "475063cf",
   "metadata": {},
   "outputs": [
    {
     "data": {
      "text/plain": [
       "[[('juan', 'j306'),\n",
       "  ('maria', 'm295'),\n",
       "  ('Jose', 'J992'),\n",
       "  ('Claudia', 'C927'),\n",
       "  ('ana', 'a96')],\n",
       " [[7, 8, 9], [9, 8, 7], [6, 5, 4], [1, 2, 3], [4, 5, 6]],\n",
       " [8.0, 8.0, 5.0, 2.0, 5.0],\n",
       " ['aprovado', 'aprovado', 'reprovado', 'reprovado', 'reprovado']]"
      ]
     },
     "execution_count": 5,
     "metadata": {},
     "output_type": "execute_result"
    }
   ],
   "source": [
    "registros"
   ]
  },
  {
   "cell_type": "code",
   "execution_count": 7,
   "id": "e9ce16f0",
   "metadata": {},
   "outputs": [
    {
     "data": {
      "text/plain": [
       "[[('juan', 'j306'),\n",
       "  ('maria', 'm295'),\n",
       "  ('Jose', 'J992'),\n",
       "  ('Claudia', 'C927'),\n",
       "  ('ana', 'a96')],\n",
       " [[7, 8, 9], [9, 8, 7], [6, 5, 4], [1, 2, 3], [4, 5, 6]],\n",
       " [8.0, 8.0, 5.0, 2.0, 5.0],\n",
       " ['aprovado', 'aprovado', 'reprovado', 'reprovado', 'reprovado']]"
      ]
     },
     "execution_count": 7,
     "metadata": {},
     "output_type": "execute_result"
    }
   ],
   "source": [
    "lista_completa = [nombres, notas, promedios, situacion]\n",
    "lista_completa"
   ]
  },
  {
   "cell_type": "code",
   "execution_count": null,
   "id": "2a8d878f",
   "metadata": {},
   "outputs": [],
   "source": []
  }
 ],
 "metadata": {
  "kernelspec": {
   "display_name": "Python 3",
   "language": "python",
   "name": "python3"
  },
  "language_info": {
   "codemirror_mode": {
    "name": "ipython",
    "version": 3
   },
   "file_extension": ".py",
   "mimetype": "text/x-python",
   "name": "python",
   "nbconvert_exporter": "python",
   "pygments_lexer": "ipython3",
   "version": "3.13.3"
  }
 },
 "nbformat": 4,
 "nbformat_minor": 5
}
