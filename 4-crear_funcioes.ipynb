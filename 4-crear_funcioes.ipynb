{
 "cells": [
  {
   "cell_type": "markdown",
   "id": "040b02ac",
   "metadata": {},
   "source": [
    "## Funciones sin parametros\n",
    "\n",
    "### Foormato estandar\n",
    "\n",
    "```pythoh\n",
    "    def <nombre>():\n",
    "        <instruciiones>\n",
    "```"
   ]
  },
  {
   "cell_type": "code",
   "execution_count": 1,
   "id": "e0a62548",
   "metadata": {},
   "outputs": [],
   "source": [
    "def promedio():\n",
    "    calculo = (10 + 9 + 7) / 3\n",
    "    print(calculo)"
   ]
  },
  {
   "cell_type": "code",
   "execution_count": 2,
   "id": "e16c9c58",
   "metadata": {},
   "outputs": [
    {
     "name": "stdout",
     "output_type": "stream",
     "text": [
      "8.666666666666666\n"
     ]
    }
   ],
   "source": [
    "promedio()"
   ]
  },
  {
   "cell_type": "markdown",
   "id": "9a942050",
   "metadata": {},
   "source": [
    "## Funciones con parametros\n",
    "\n",
    "### formato estandar:\n",
    "\n",
    "```\n",
    "def <nombre>(<param_1>,<pam_2>,<param_3>.....):\n",
    "    <instrucciones>\n",
    "```"
   ]
  },
  {
   "cell_type": "code",
   "execution_count": 3,
   "id": "905e326c",
   "metadata": {},
   "outputs": [],
   "source": [
    "def promedio(nota_1, nota_2, nota_3):\n",
    "    calculo = (nota_1 + nota_2 + nota_3) / 3\n",
    "    print(calculo)"
   ]
  },
  {
   "cell_type": "code",
   "execution_count": 5,
   "id": "43e36385",
   "metadata": {},
   "outputs": [
    {
     "name": "stdout",
     "output_type": "stream",
     "text": [
      "8.666666666666666\n"
     ]
    }
   ],
   "source": [
    "promedio(10, 9, 7)"
   ]
  },
  {
   "cell_type": "code",
   "execution_count": 7,
   "id": "f896b20a",
   "metadata": {},
   "outputs": [
    {
     "name": "stdout",
     "output_type": "stream",
     "text": [
      "8.666666666666666\n"
     ]
    }
   ],
   "source": [
    "promedio(nota_1=10, nota_2=9, nota_3=7)"
   ]
  },
  {
   "cell_type": "markdown",
   "id": "ed94ce08",
   "metadata": {},
   "source": [
    "## __situacion 2:__\n",
    "\n",
    "Recibimos una solicitud para crear una función que calcule el promedio de notas de un restaurante a partir de una lista que permita alterar la cantidad de notas y que no implique tener que modificar la funcion.\n",
    "\n",
    "Los datos recibidos, en esta ocacio n corresponden a una lista que contiene las notas de un mismo estudiante en una determinanda materiaa\n",
    "\n",
    "notas = 8.5,9.0,6.0,10.0\n",
    "\n",
    "__¿Vamos a resolver este desafio?__\n",
    "\n",
    "Para facilitar nuestra comprencion del proceso, vamos a aplicar las notas de unico estudiante; sin embargo, puedes probar otros casos para practicar"
   ]
  },
  {
   "cell_type": "code",
   "execution_count": 1,
   "id": "80333fbf",
   "metadata": {},
   "outputs": [],
   "source": [
    "notas = [8.5,9.0,6.0,10.0]"
   ]
  },
  {
   "cell_type": "code",
   "execution_count": 2,
   "id": "a259c066",
   "metadata": {},
   "outputs": [],
   "source": [
    "def promedio(lista):\n",
    "    calculo = sum(lista)/len(lista)\n",
    "    print(calculo)"
   ]
  },
  {
   "cell_type": "code",
   "execution_count": 3,
   "id": "d0871b4f",
   "metadata": {},
   "outputs": [
    {
     "name": "stdout",
     "output_type": "stream",
     "text": [
      "8.375\n"
     ]
    }
   ],
   "source": [
    "promedio(notas)"
   ]
  },
  {
   "cell_type": "code",
   "execution_count": 4,
   "id": "ba287cc1",
   "metadata": {},
   "outputs": [
    {
     "name": "stdout",
     "output_type": "stream",
     "text": [
      "8.375\n"
     ]
    }
   ],
   "source": [
    "media = promedio(notas)"
   ]
  },
  {
   "cell_type": "code",
   "execution_count": 5,
   "id": "0e773817",
   "metadata": {},
   "outputs": [
    {
     "data": {
      "text/plain": [
       "NoneType"
      ]
     },
     "execution_count": 5,
     "metadata": {},
     "output_type": "execute_result"
    }
   ],
   "source": [
    "type(media)"
   ]
  },
  {
   "cell_type": "markdown",
   "id": "08b16557",
   "metadata": {},
   "source": [
    "__Atencion__\n",
    "\n",
    "Cuando utilizamos funciones nececitamos prestar atencion a una propieda llamasa __Alcance de una funcion__ Esta propiedad determina donde una variable puede ser uutilizada del codigo. Por ejemplo una variable puede ser utilizada dentro del codigo. Por ejemplo, una variable creada dentro de una funcion existente Unicamente dentro de esta funcion. O sea, cuando finaliza la ejecucion, la variable no estara disponibla para el usuairo en el resto del codigo"
   ]
  },
  {
   "cell_type": "code",
   "execution_count": 6,
   "id": "a139bd2d",
   "metadata": {},
   "outputs": [
    {
     "ename": "NameError",
     "evalue": "name 'calculo' is not defined",
     "output_type": "error",
     "traceback": [
      "\u001b[31m---------------------------------------------------------------------------\u001b[39m",
      "\u001b[31mNameError\u001b[39m                                 Traceback (most recent call last)",
      "\u001b[36mCell\u001b[39m\u001b[36m \u001b[39m\u001b[32mIn[6]\u001b[39m\u001b[32m, line 1\u001b[39m\n\u001b[32m----> \u001b[39m\u001b[32m1\u001b[39m \u001b[43mcalculo\u001b[49m\n",
      "\u001b[31mNameError\u001b[39m: name 'calculo' is not defined"
     ]
    }
   ],
   "source": [
    "calculo"
   ]
  },
  {
   "cell_type": "code",
   "execution_count": null,
   "id": "d153e195",
   "metadata": {},
   "outputs": [],
   "source": []
  }
 ],
 "metadata": {
  "kernelspec": {
   "display_name": "Python 3",
   "language": "python",
   "name": "python3"
  },
  "language_info": {
   "codemirror_mode": {
    "name": "ipython",
    "version": 3
   },
   "file_extension": ".py",
   "mimetype": "text/x-python",
   "name": "python",
   "nbconvert_exporter": "python",
   "pygments_lexer": "ipython3",
   "version": "3.13.3"
  }
 },
 "nbformat": 4,
 "nbformat_minor": 5
}
