{
 "cells": [
  {
   "cell_type": "markdown",
   "id": "5a2aa0b7",
   "metadata": {},
   "source": [
    "__Situación 7:__\n",
    "\n",
    "Necesitamos generar una lista de tuplas con los nombres de los estudiantes y el código ID de cada uno de ellos para la plataforma de análisis de datos. La creación del código consiste en concatenar la primera letra del nombre del estudiante Con un número aleatorio de O a 999. LOS datos recibidos corresponden a una lista con los nornbres de cada estudiante.\n",
    "\n",
    "__¿Vamos a resolver este desafío?__\n",
    "\n",
    "Para facilitar nuestra comprensión del proceso, vambs a trabajar con un grupo de 5 estudiantes: embargo, puedes probar otros casos para practicar."
   ]
  },
  {
   "cell_type": "code",
   "execution_count": 1,
   "id": "06927055",
   "metadata": {},
   "outputs": [],
   "source": [
    "nombres = [\"juan\", \"maria\", \"Jose\", \"Claudia\", \"ana\"]"
   ]
  },
  {
   "cell_type": "code",
   "execution_count": 2,
   "id": "424efbe0",
   "metadata": {},
   "outputs": [],
   "source": [
    "from random import randint\n",
    "def genara_numero():\n",
    "    return randint(0,999)"
   ]
  },
  {
   "cell_type": "code",
   "execution_count": 3,
   "id": "df5c9e4e",
   "metadata": {},
   "outputs": [
    {
     "data": {
      "text/plain": [
       "923"
      ]
     },
     "execution_count": 3,
     "metadata": {},
     "output_type": "execute_result"
    }
   ],
   "source": [
    "genara_numero()"
   ]
  },
  {
   "cell_type": "code",
   "execution_count": 6,
   "id": "06fa46fc",
   "metadata": {},
   "outputs": [],
   "source": [
    "codigo_estudiante = []\n",
    "\n",
    "for i in range(len(nombres)):\n",
    "    codigo_estudiante.append((nombres[i], nombres[i][0] + str(genara_numero())))"
   ]
  },
  {
   "cell_type": "code",
   "execution_count": 7,
   "id": "56fb7fc1",
   "metadata": {},
   "outputs": [
    {
     "data": {
      "text/plain": [
       "[('juan', 'j306'),\n",
       " ('maria', 'm295'),\n",
       " ('Jose', 'J992'),\n",
       " ('Claudia', 'C927'),\n",
       " ('ana', 'a96')]"
      ]
     },
     "execution_count": 7,
     "metadata": {},
     "output_type": "execute_result"
    }
   ],
   "source": [
    "codigo_estudiante"
   ]
  },
  {
   "cell_type": "code",
   "execution_count": 8,
   "id": "41f4e4a1",
   "metadata": {},
   "outputs": [],
   "source": [
    "def promedio (lista:list=[0])->float:\n",
    "    calculo = sum(lista)/len(lista)\n",
    "    return calculo"
   ]
  },
  {
   "cell_type": "code",
   "execution_count": null,
   "id": "fb58e2f7",
   "metadata": {},
   "outputs": [],
   "source": []
  }
 ],
 "metadata": {
  "kernelspec": {
   "display_name": "Python 3",
   "language": "python",
   "name": "python3"
  },
  "language_info": {
   "codemirror_mode": {
    "name": "ipython",
    "version": 3
   },
   "file_extension": ".py",
   "mimetype": "text/x-python",
   "name": "python",
   "nbconvert_exporter": "python",
   "pygments_lexer": "ipython3",
   "version": "3.13.3"
  }
 },
 "nbformat": 4,
 "nbformat_minor": 5
}
