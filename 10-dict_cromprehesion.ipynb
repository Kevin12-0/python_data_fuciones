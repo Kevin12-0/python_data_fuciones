{
 "cells": [
  {
   "cell_type": "markdown",
   "id": "0631ee4d",
   "metadata": {},
   "source": [
    "# __3.3 Dict comprehension__\n",
    "\n",
    "Es una forma simple y concisa de crear o modificar un diccionario. Podemos aplicar condicionales y lazos para crear diversos tipos de diccionarios a partir de los patrones que buscamos para nuestra estructura de datos y con el soporte de iterables como listas o sets.\n",
    "\n",
    "__formato estandar__\n",
    "\n",
    "```{llave:valor for item in lista}```"
   ]
  },
  {
   "cell_type": "markdown",
   "id": "f14ed660",
   "metadata": {},
   "source": [
    "## __Situación 11:__\n",
    "\n",
    "Ahora, nuestra demanda consiste en generar un diccionario a partir de la lista de listas que creamos en la Situación 10 para entregar a la persona responsable por construir las tablas para el análisis de los datos.\n",
    "\n",
    "*   Las llaves de nuestro diccionario serán las columnas identificando el tipo de dato\n",
    "*   Los valores serán las listas con los datos correspondientes a aquella llave.\n",
    "\n",
    "__¿Vamos a resolver este desafío?__\n",
    "\n",
    "Para facilitar nuestra comprensión del proceso vamos a trabajar con un grupo de 5 estudiantes.\n",
    "\n",
    "__Tip:__ Utiliza el formato\n",
    "\n",
    "\n",
    "```{llave:valor for item in lista}```"
   ]
  },
  {
   "cell_type": "code",
   "execution_count": 3,
   "id": "0680605b",
   "metadata": {},
   "outputs": [],
   "source": [
    "# creaciuon de la lista\n",
    "\n",
    "lista_completa = [\n",
    "    [\n",
    "        (\"juan\", \"j306\"),\n",
    "        (\"maria\", \"m295\"),\n",
    "        (\"Jose\", \"J992\"),\n",
    "        (\"Claudia\", \"C927\"),\n",
    "        (\"ana\", \"a96\"),\n",
    "    ],\n",
    "    [[7, 8, 9], [9, 8, 7], [6, 5, 4], [1, 2, 3], [4, 5, 6]],\n",
    "    [8.0, 8.0, 5.0, 2.0, 5.0],\n",
    "    [\"aprobado\", \"aprobado\", \"reprobado\", \"reprobado\", \"reprobado\"],\n",
    "]"
   ]
  },
  {
   "cell_type": "code",
   "execution_count": 4,
   "id": "e5e44ff0",
   "metadata": {},
   "outputs": [
    {
     "data": {
      "text/plain": [
       "{'notas': [[7, 8, 9], [9, 8, 7], [6, 5, 4], [1, 2, 3], [4, 5, 6]],\n",
       " 'promedio final': [8.0, 8.0, 5.0, 2.0, 5.0],\n",
       " 'situacion': ['aprobado', 'aprobado', 'reprobado', 'reprobado', 'reprobado']}"
      ]
     },
     "execution_count": 4,
     "metadata": {},
     "output_type": "execute_result"
    }
   ],
   "source": [
    "columnas = [\"notas\", \"promedio final\", \"situacion\"]\n",
    "registro = {columnas[i]: lista_completa[i + 1] for i in range(len(columnas))}\n",
    "registro"
   ]
  },
  {
   "cell_type": "code",
   "execution_count": 5,
   "id": "9bf5be6f",
   "metadata": {},
   "outputs": [
    {
     "data": {
      "text/plain": [
       "{'notas': [[7, 8, 9], [9, 8, 7], [6, 5, 4], [1, 2, 3], [4, 5, 6]],\n",
       " 'promedio final': [8.0, 8.0, 5.0, 2.0, 5.0],\n",
       " 'situacion': ['aprobado', 'aprobado', 'reprobado', 'reprobado', 'reprobado'],\n",
       " 'estudiante': ['juan', 'maria', 'Jose', 'Claudia', 'ana']}"
      ]
     },
     "execution_count": 5,
     "metadata": {},
     "output_type": "execute_result"
    }
   ],
   "source": [
    "registro[\"estudiante\"] = [\n",
    "    lista_completa[0][i][0] for i in range(len(lista_completa[0]))\n",
    "]\n",
    "registro"
   ]
  },
  {
   "cell_type": "code",
   "execution_count": null,
   "id": "27d8f4e9",
   "metadata": {},
   "outputs": [],
   "source": []
  }
 ],
 "metadata": {
  "kernelspec": {
   "display_name": "Python 3",
   "language": "python",
   "name": "python3"
  },
  "language_info": {
   "codemirror_mode": {
    "name": "ipython",
    "version": 3
   },
   "file_extension": ".py",
   "mimetype": "text/x-python",
   "name": "python",
   "nbconvert_exporter": "python",
   "pygments_lexer": "ipython3",
   "version": "3.13.3"
  }
 },
 "nbformat": 4,
 "nbformat_minor": 5
}
