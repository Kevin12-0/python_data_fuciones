{
 "cells": [
  {
   "cell_type": "markdown",
   "id": "97018764",
   "metadata": {},
   "source": [
    "# __3. ESTRUCTURAS DE DATOS COMPUESTAS__\n",
    "\n",
    "## __3.1 Estructuras anidadas__\n",
    "\n",
    "Previamente. aprendimos a manipular las listas. tuplas y para gabap cm una secuencia o colección de valores sean numéricos,categóricos, etc. En esta aula. vamos a en para persona científica datos que es trabajar con estos tipos de estructuras anidadas. o sea, cuando, por ejemplo, tenemos listas dentro de una lista.\n",
    "\n",
    "## __Lista de listas__\n",
    "\n",
    "Formato estandar\n",
    "\n",
    "```[[a1,a2,...an],[b1,b2...,bn]....[n1,n2,...n3]]```"
   ]
  },
  {
   "cell_type": "markdown",
   "id": "76dcb098",
   "metadata": {},
   "source": [
    "__Situación 6:__\n",
    "\n",
    "Recibimos la demanda de transformar una lista con el nombre y las notas de tres trimestres de algunos estudiantes en una lista simple, con los nombres separados de las notas. y una lista de Estas con las tres notas de cada estudiante separadas entre sí. Los datos recibidos corresponden a una lista con los nombres y las respectivas notas de cada estuOante.\n",
    "\n",
    "__¿Vamos a resolver este desafío?__\n",
    "\n",
    "para facilitar comprensión del a trabajar Con un grupo de 5 Sin embargo, puedes Otros Casos para practicar."
   ]
  },
  {
   "cell_type": "code",
   "execution_count": 1,
   "id": "f4057250",
   "metadata": {},
   "outputs": [],
   "source": [
    "notas_grupo = [\n",
    "    \"juan\",\n",
    "    7,\n",
    "    8,\n",
    "    9,\n",
    "    \"maria\",\n",
    "    9,\n",
    "    8,\n",
    "    7,\n",
    "    \"Jose\",\n",
    "    6,\n",
    "    5,\n",
    "    4,\n",
    "    \"Claudia\",\n",
    "    1,\n",
    "    2,\n",
    "    3,\n",
    "    \"ana\",\n",
    "    4,\n",
    "    5,\n",
    "    6,\n",
    "]"
   ]
  },
  {
   "cell_type": "code",
   "execution_count": 2,
   "id": "8ea65050",
   "metadata": {},
   "outputs": [],
   "source": [
    "nombres = []\n",
    "notas = []\n",
    "for i in range(len(notas_grupo)):\n",
    "    if i % 4 == 0:\n",
    "        nombres.append(notas_grupo[i])\n",
    "    else:\n",
    "        notas.append(notas_grupo[i])"
   ]
  },
  {
   "cell_type": "code",
   "execution_count": 3,
   "id": "1b41b3b6",
   "metadata": {},
   "outputs": [
    {
     "data": {
      "text/plain": [
       "[7, 8, 9, 9, 8, 7, 6, 5, 4, 1, 2, 3, 4, 5, 6]"
      ]
     },
     "execution_count": 3,
     "metadata": {},
     "output_type": "execute_result"
    }
   ],
   "source": [
    "notas"
   ]
  },
  {
   "cell_type": "code",
   "execution_count": 4,
   "id": "8ddadbd1",
   "metadata": {},
   "outputs": [
    {
     "data": {
      "text/plain": [
       "['juan', 'maria', 'Jose', 'Claudia', 'ana']"
      ]
     },
     "execution_count": 4,
     "metadata": {},
     "output_type": "execute_result"
    }
   ],
   "source": [
    "nombres"
   ]
  },
  {
   "cell_type": "code",
   "execution_count": 7,
   "id": "463587e6",
   "metadata": {},
   "outputs": [],
   "source": [
    "notas_separadas = []\n",
    "for i in range(0, len(notas), 3):\n",
    "    notas_separadas.append([notas[i], notas[i + 1], notas[i + 2]])"
   ]
  },
  {
   "cell_type": "code",
   "execution_count": 8,
   "id": "ce515275",
   "metadata": {},
   "outputs": [
    {
     "data": {
      "text/plain": [
       "[[7, 8, 9], [9, 8, 7], [6, 5, 4], [1, 2, 3], [4, 5, 6]]"
      ]
     },
     "execution_count": 8,
     "metadata": {},
     "output_type": "execute_result"
    }
   ],
   "source": [
    "notas_separadas"
   ]
  },
  {
   "cell_type": "code",
   "execution_count": null,
   "id": "e4265e67",
   "metadata": {},
   "outputs": [],
   "source": []
  }
 ],
 "metadata": {
  "kernelspec": {
   "display_name": "Python 3",
   "language": "python",
   "name": "python3"
  },
  "language_info": {
   "codemirror_mode": {
    "name": "ipython",
    "version": 3
   },
   "file_extension": ".py",
   "mimetype": "text/x-python",
   "name": "python",
   "nbconvert_exporter": "python",
   "pygments_lexer": "ipython3",
   "version": "3.13.3"
  }
 },
 "nbformat": 4,
 "nbformat_minor": 5
}
